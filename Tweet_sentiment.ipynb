{
 "cells": [
  {
   "cell_type": "markdown",
   "metadata": {},
   "source": [
    "# Personal tweets sentiment analysis\n",
    "\n",
    "## This paper presents user interaction with the developed model\n",
    "\n",
    "interaction interface:<br>\n",
    "1: You will need to enter screenname in variable \"user_screen_name\"<br>\n",
    "2: Enter the required number of current tweets to view in variable \"tweets_count\"<br>\n",
    "3: Run first three jupyter cells(if you didn't get http: link on the output, run second and third cell again)<br>\n",
    "4: Output of the third cell is a link for visualization in the browser. Open this link, later we will need it.<br>\n",
    "5: Run fourth cell. In the output of this cell, you will see a dataframe. In the \"raw_data\" column there are actual tweets of the person you are interested in. in the \"target\" column there are corresponding tweet sentiment scores<br>\n",
    "6: After full cell execution. follow the link obtained in step 4<br>\n",
    "### visualization setup\n",
    "1: In the left part of the interface, find the drop-down list \"Color by\" and select \"Sentiment\"<br>\n",
    "This will help to distinguish between positively and negatively used words in the context of the speech of person being analyzed<br>\n",
    "Also when choosing a word of interest, after it, in brackets is indicated an accurate assessment positivity of the word used in the contest of this person’s speech<br>\n",
    "2: On the right side of the interface, locate the “Search” field. With the help of it you can find the words of interest, and analyze words in the original speech space"
   ]
  },
  {
   "cell_type": "code",
   "execution_count": null,
   "metadata": {},
   "outputs": [],
   "source": [
    "user_screen_name = \"realDonaldTrump\"\n",
    "tweets_count = 20"
   ]
  },
  {
   "cell_type": "code",
   "execution_count": null,
   "metadata": {},
   "outputs": [],
   "source": [
    "%run thread.py\n",
    "thread_start()"
   ]
  },
  {
   "cell_type": "code",
   "execution_count": null,
   "metadata": {},
   "outputs": [],
   "source": [
    "url = ! curl -s http://localhost:4040/api/tunnels | python3 -c \\\n",
    "    \"import sys, json; print(json.load(sys.stdin)['tunnels'][0]['public_url'])\"\n",
    "print(url[0]+\"/#projector\")"
   ]
  },
  {
   "cell_type": "code",
   "execution_count": null,
   "metadata": {},
   "outputs": [],
   "source": [
    "%run main.py\n",
    "main_func(user_screen_name, tweets_count)"
   ]
  }
 ],
 "metadata": {
  "kernelspec": {
   "display_name": "Python 3",
   "language": "python",
   "name": "python3"
  },
  "language_info": {
   "codemirror_mode": {
    "name": "ipython",
    "version": 3
   },
   "file_extension": ".py",
   "mimetype": "text/x-python",
   "name": "python",
   "nbconvert_exporter": "python",
   "pygments_lexer": "ipython3",
   "version": "3.6.7"
  }
 },
 "nbformat": 4,
 "nbformat_minor": 2
}
